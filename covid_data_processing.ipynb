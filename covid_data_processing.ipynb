{
  "nbformat": 4,
  "nbformat_minor": 0,
  "metadata": {
    "colab": {
      "name": "covid_data_processing",
      "provenance": [],
      "collapsed_sections": [
        "L5Yju8enOC6O",
        "HZllo7odfmni",
        "uT6fIQFrSpKL",
        "srDMVSTJN2vu"
      ],
      "toc_visible": true,
      "mount_file_id": "1-t4fX5EHkWrh-8b53TppCiZhU0bqzgPV",
      "authorship_tag": "ABX9TyPGgSWY4lWRqHBDnqheYwT1",
      "include_colab_link": true
    },
    "kernelspec": {
      "name": "python3",
      "display_name": "Python 3"
    }
  },
  "cells": [
    {
      "cell_type": "markdown",
      "metadata": {
        "id": "view-in-github",
        "colab_type": "text"
      },
      "source": [
        "<a href=\"https://colab.research.google.com/github/afrokyss/Africa-Covid-Report/blob/main/covid_data_processing.ipynb\" target=\"_parent\"><img src=\"https://colab.research.google.com/assets/colab-badge.svg\" alt=\"Open In Colab\"/></a>"
      ]
    },
    {
      "cell_type": "code",
      "metadata": {
        "id": "lDxoalQa1y-8"
      },
      "source": [
        "import pandas as pd\n",
        "import numpy as np\n",
        "import datetime\n",
        "import plotly.express as px"
      ],
      "execution_count": 1,
      "outputs": []
    },
    {
      "cell_type": "markdown",
      "metadata": {
        "id": "wexOYrNi5K16"
      },
      "source": [
        "## Drop col\n",
        "\n"
      ]
    },
    {
      "cell_type": "code",
      "metadata": {
        "id": "kftqFVQm5Qia"
      },
      "source": [
        "def drop_col(input_data):\n",
        "  output_data = input_data.drop(columns = ['Province/State'])\n",
        "  return output_data"
      ],
      "execution_count": 2,
      "outputs": []
    },
    {
      "cell_type": "markdown",
      "metadata": {
        "id": "SUQaL9sl65zC"
      },
      "source": [
        "## Rename Cols"
      ]
    },
    {
      "cell_type": "code",
      "metadata": {
        "id": "J6ms9fRc62wI"
      },
      "source": [
        "def rename_col(input_data):\n",
        "  output_data = input_data.rename(\n",
        "      columns = {\n",
        "          'Country/Region' : 'country',\n",
        "          'Long': 'long',\n",
        "          'Lat': 'lat'\n",
        "      }\n",
        "  )\n",
        "  return output_data"
      ],
      "execution_count": 3,
      "outputs": []
    },
    {
      "cell_type": "markdown",
      "metadata": {
        "id": "q6PidmBGGHVV"
      },
      "source": [
        "## Melt dataframe"
      ]
    },
    {
      "cell_type": "code",
      "metadata": {
        "id": "-pWA7vf460k5"
      },
      "source": [
        "def covid_melt(input_data, value_val_name):\n",
        "  output_data = input_data.melt(id_vars = ['lat', 'long', 'country'],\n",
        "                                var_name = 'date_raw',\n",
        "                                value_name = value_val_name)\n",
        "  return output_data\n",
        "  "
      ],
      "execution_count": 4,
      "outputs": []
    },
    {
      "cell_type": "markdown",
      "metadata": {
        "id": "UlYMF4MpGW1-"
      },
      "source": [
        "## define date"
      ]
    },
    {
      "cell_type": "code",
      "metadata": {
        "id": "SYZj5IiyFjlI"
      },
      "source": [
        "def covid_date(input_data):\n",
        "  output_data = input_data.assign(date = pd.to_datetime(input_data['date_raw'], format= '%m/%d/%y'))\n",
        "  output_data.drop(columns = ['date_raw'], inplace = True)\n",
        "  return output_data"
      ],
      "execution_count": 5,
      "outputs": []
    },
    {
      "cell_type": "markdown",
      "metadata": {
        "id": "0kXXZGa4bLH_"
      },
      "source": [
        "## Rearange data "
      ]
    },
    {
      "cell_type": "code",
      "metadata": {
        "id": "iKOT798TJ8u0"
      },
      "source": [
        "def rearange_data(input_data, value_val_name):\n",
        "  output_data = input_data[['country', 'date', 'lat', 'long', value_val_name]] \n",
        "  return output_data"
      ],
      "execution_count": 6,
      "outputs": []
    },
    {
      "cell_type": "markdown",
      "metadata": {
        "id": "W1pTFpwgi67d"
      },
      "source": [
        "## Compute data"
      ]
    },
    {
      "cell_type": "code",
      "metadata": {
        "id": "eaLD4rF7eADE"
      },
      "source": [
        "def get_data(input_url, value_val_name):\n",
        "  data = pd.read_csv(input_url)\n",
        "  data = drop_col(data)\n",
        "  data = rename_col(data)\n",
        "  data = covid_melt(data, value_val_name)\n",
        "  data = covid_date(data)\n",
        "  data = rearange_data(data, value_val_name)\n",
        "  \n",
        "  return data\n"
      ],
      "execution_count": 7,
      "outputs": []
    },
    {
      "cell_type": "markdown",
      "metadata": {
        "id": "eKU1C2pZo8Dh"
      },
      "source": [
        "## Gete data"
      ]
    },
    {
      "cell_type": "code",
      "metadata": {
        "id": "GgIlNsxOo201"
      },
      "source": [
        "url_confirmed = 'https://raw.githubusercontent.com/CSSEGISandData/COVID-19/master/csse_covid_19_data/csse_covid_19_time_series/time_series_covid19_confirmed_global.csv'\n",
        "url_deaths = 'https://raw.githubusercontent.com/CSSEGISandData/COVID-19/master/csse_covid_19_data/csse_covid_19_time_series/time_series_covid19_deaths_global.csv'\n",
        "url_recovered = 'https://raw.githubusercontent.com/CSSEGISandData/COVID-19/master/csse_covid_19_data/csse_covid_19_time_series/time_series_covid19_recovered_global.csv' \n",
        "\n",
        "confirmed_cases = get_data(url_confirmed, 'confirmed')\n",
        "deaths_cases = get_data(url_deaths, 'deaths')\n",
        "recovered_cases = get_data(url_recovered, 'recovered')"
      ],
      "execution_count": 8,
      "outputs": []
    },
    {
      "cell_type": "markdown",
      "metadata": {
        "id": "L5Yju8enOC6O"
      },
      "source": [
        "## merge dataframes"
      ]
    },
    {
      "cell_type": "code",
      "metadata": {
        "id": "V9NKFYPF5myU"
      },
      "source": [
        "deaths_cases.drop(columns = ['lat','long'], inplace = True)\n",
        "recovered_cases.drop(columns = ['lat','long'], inplace = True)"
      ],
      "execution_count": 9,
      "outputs": []
    },
    {
      "cell_type": "code",
      "metadata": {
        "id": "9J2iaALb7rMq"
      },
      "source": [
        "df_covid = (confirmed_cases\n",
        "            .merge(deaths_cases, on=['country', 'date'], how='left')\n",
        "            .merge(recovered_cases, on=['country', 'date'], how='left')\n",
        "            )"
      ],
      "execution_count": 10,
      "outputs": []
    },
    {
      "cell_type": "code",
      "metadata": {
        "id": "BJzIGnurjeXq",
        "outputId": "a875d77e-6a1b-46e9-d140-c259cde0255d",
        "colab": {
          "base_uri": "https://localhost:8080/",
          "height": 0
        }
      },
      "source": [
        "df_covid"
      ],
      "execution_count": 11,
      "outputs": [
        {
          "output_type": "execute_result",
          "data": {
            "text/html": [
              "<div>\n",
              "<style scoped>\n",
              "    .dataframe tbody tr th:only-of-type {\n",
              "        vertical-align: middle;\n",
              "    }\n",
              "\n",
              "    .dataframe tbody tr th {\n",
              "        vertical-align: top;\n",
              "    }\n",
              "\n",
              "    .dataframe thead th {\n",
              "        text-align: right;\n",
              "    }\n",
              "</style>\n",
              "<table border=\"1\" class=\"dataframe\">\n",
              "  <thead>\n",
              "    <tr style=\"text-align: right;\">\n",
              "      <th></th>\n",
              "      <th>country</th>\n",
              "      <th>date</th>\n",
              "      <th>lat</th>\n",
              "      <th>long</th>\n",
              "      <th>confirmed</th>\n",
              "      <th>deaths</th>\n",
              "      <th>recovered</th>\n",
              "    </tr>\n",
              "  </thead>\n",
              "  <tbody>\n",
              "    <tr>\n",
              "      <th>0</th>\n",
              "      <td>Afghanistan</td>\n",
              "      <td>2020-01-22</td>\n",
              "      <td>33.939110</td>\n",
              "      <td>67.709953</td>\n",
              "      <td>0</td>\n",
              "      <td>0</td>\n",
              "      <td>0</td>\n",
              "    </tr>\n",
              "    <tr>\n",
              "      <th>1</th>\n",
              "      <td>Albania</td>\n",
              "      <td>2020-01-22</td>\n",
              "      <td>41.153300</td>\n",
              "      <td>20.168300</td>\n",
              "      <td>0</td>\n",
              "      <td>0</td>\n",
              "      <td>0</td>\n",
              "    </tr>\n",
              "    <tr>\n",
              "      <th>2</th>\n",
              "      <td>Algeria</td>\n",
              "      <td>2020-01-22</td>\n",
              "      <td>28.033900</td>\n",
              "      <td>1.659600</td>\n",
              "      <td>0</td>\n",
              "      <td>0</td>\n",
              "      <td>0</td>\n",
              "    </tr>\n",
              "    <tr>\n",
              "      <th>3</th>\n",
              "      <td>Andorra</td>\n",
              "      <td>2020-01-22</td>\n",
              "      <td>42.506300</td>\n",
              "      <td>1.521800</td>\n",
              "      <td>0</td>\n",
              "      <td>0</td>\n",
              "      <td>0</td>\n",
              "    </tr>\n",
              "    <tr>\n",
              "      <th>4</th>\n",
              "      <td>Angola</td>\n",
              "      <td>2020-01-22</td>\n",
              "      <td>-11.202700</td>\n",
              "      <td>17.873900</td>\n",
              "      <td>0</td>\n",
              "      <td>0</td>\n",
              "      <td>0</td>\n",
              "    </tr>\n",
              "    <tr>\n",
              "      <th>...</th>\n",
              "      <td>...</td>\n",
              "      <td>...</td>\n",
              "      <td>...</td>\n",
              "      <td>...</td>\n",
              "      <td>...</td>\n",
              "      <td>...</td>\n",
              "      <td>...</td>\n",
              "    </tr>\n",
              "    <tr>\n",
              "      <th>10504860</th>\n",
              "      <td>West Bank and Gaza</td>\n",
              "      <td>2020-10-12</td>\n",
              "      <td>31.952200</td>\n",
              "      <td>35.233200</td>\n",
              "      <td>44684</td>\n",
              "      <td>387</td>\n",
              "      <td>38228</td>\n",
              "    </tr>\n",
              "    <tr>\n",
              "      <th>10504861</th>\n",
              "      <td>Western Sahara</td>\n",
              "      <td>2020-10-12</td>\n",
              "      <td>24.215500</td>\n",
              "      <td>-12.885800</td>\n",
              "      <td>10</td>\n",
              "      <td>1</td>\n",
              "      <td>8</td>\n",
              "    </tr>\n",
              "    <tr>\n",
              "      <th>10504862</th>\n",
              "      <td>Yemen</td>\n",
              "      <td>2020-10-12</td>\n",
              "      <td>15.552727</td>\n",
              "      <td>48.516388</td>\n",
              "      <td>2052</td>\n",
              "      <td>596</td>\n",
              "      <td>1329</td>\n",
              "    </tr>\n",
              "    <tr>\n",
              "      <th>10504863</th>\n",
              "      <td>Zambia</td>\n",
              "      <td>2020-10-12</td>\n",
              "      <td>-13.133897</td>\n",
              "      <td>27.849332</td>\n",
              "      <td>15549</td>\n",
              "      <td>345</td>\n",
              "      <td>14682</td>\n",
              "    </tr>\n",
              "    <tr>\n",
              "      <th>10504864</th>\n",
              "      <td>Zimbabwe</td>\n",
              "      <td>2020-10-12</td>\n",
              "      <td>-19.015438</td>\n",
              "      <td>29.154857</td>\n",
              "      <td>8021</td>\n",
              "      <td>230</td>\n",
              "      <td>7627</td>\n",
              "    </tr>\n",
              "  </tbody>\n",
              "</table>\n",
              "<p>10504865 rows × 7 columns</p>\n",
              "</div>"
            ],
            "text/plain": [
              "                     country       date  ...  deaths  recovered\n",
              "0                Afghanistan 2020-01-22  ...       0          0\n",
              "1                    Albania 2020-01-22  ...       0          0\n",
              "2                    Algeria 2020-01-22  ...       0          0\n",
              "3                    Andorra 2020-01-22  ...       0          0\n",
              "4                     Angola 2020-01-22  ...       0          0\n",
              "...                      ...        ...  ...     ...        ...\n",
              "10504860  West Bank and Gaza 2020-10-12  ...     387      38228\n",
              "10504861      Western Sahara 2020-10-12  ...       1          8\n",
              "10504862               Yemen 2020-10-12  ...     596       1329\n",
              "10504863              Zambia 2020-10-12  ...     345      14682\n",
              "10504864            Zimbabwe 2020-10-12  ...     230       7627\n",
              "\n",
              "[10504865 rows x 7 columns]"
            ]
          },
          "metadata": {
            "tags": []
          },
          "execution_count": 11
        }
      ]
    },
    {
      "cell_type": "code",
      "metadata": {
        "id": "e6x7SjHo524M",
        "outputId": "ef7916cd-0490-43a2-c7f1-cae83c678efe",
        "colab": {
          "base_uri": "https://localhost:8080/",
          "height": 0
        }
      },
      "source": [
        "df_covid[df_covid['country']=='Egypt']"
      ],
      "execution_count": 12,
      "outputs": [
        {
          "output_type": "execute_result",
          "data": {
            "text/html": [
              "<div>\n",
              "<style scoped>\n",
              "    .dataframe tbody tr th:only-of-type {\n",
              "        vertical-align: middle;\n",
              "    }\n",
              "\n",
              "    .dataframe tbody tr th {\n",
              "        vertical-align: top;\n",
              "    }\n",
              "\n",
              "    .dataframe thead th {\n",
              "        text-align: right;\n",
              "    }\n",
              "</style>\n",
              "<table border=\"1\" class=\"dataframe\">\n",
              "  <thead>\n",
              "    <tr style=\"text-align: right;\">\n",
              "      <th></th>\n",
              "      <th>country</th>\n",
              "      <th>date</th>\n",
              "      <th>lat</th>\n",
              "      <th>long</th>\n",
              "      <th>confirmed</th>\n",
              "      <th>deaths</th>\n",
              "      <th>recovered</th>\n",
              "    </tr>\n",
              "  </thead>\n",
              "  <tbody>\n",
              "    <tr>\n",
              "      <th>36721</th>\n",
              "      <td>Egypt</td>\n",
              "      <td>2020-01-22</td>\n",
              "      <td>26.820553</td>\n",
              "      <td>30.802498</td>\n",
              "      <td>0</td>\n",
              "      <td>0</td>\n",
              "      <td>0</td>\n",
              "    </tr>\n",
              "    <tr>\n",
              "      <th>76362</th>\n",
              "      <td>Egypt</td>\n",
              "      <td>2020-01-23</td>\n",
              "      <td>26.820553</td>\n",
              "      <td>30.802498</td>\n",
              "      <td>0</td>\n",
              "      <td>0</td>\n",
              "      <td>0</td>\n",
              "    </tr>\n",
              "    <tr>\n",
              "      <th>116003</th>\n",
              "      <td>Egypt</td>\n",
              "      <td>2020-01-24</td>\n",
              "      <td>26.820553</td>\n",
              "      <td>30.802498</td>\n",
              "      <td>0</td>\n",
              "      <td>0</td>\n",
              "      <td>0</td>\n",
              "    </tr>\n",
              "    <tr>\n",
              "      <th>155644</th>\n",
              "      <td>Egypt</td>\n",
              "      <td>2020-01-25</td>\n",
              "      <td>26.820553</td>\n",
              "      <td>30.802498</td>\n",
              "      <td>0</td>\n",
              "      <td>0</td>\n",
              "      <td>0</td>\n",
              "    </tr>\n",
              "    <tr>\n",
              "      <th>195285</th>\n",
              "      <td>Egypt</td>\n",
              "      <td>2020-01-26</td>\n",
              "      <td>26.820553</td>\n",
              "      <td>30.802498</td>\n",
              "      <td>0</td>\n",
              "      <td>0</td>\n",
              "      <td>0</td>\n",
              "    </tr>\n",
              "    <tr>\n",
              "      <th>...</th>\n",
              "      <td>...</td>\n",
              "      <td>...</td>\n",
              "      <td>...</td>\n",
              "      <td>...</td>\n",
              "      <td>...</td>\n",
              "      <td>...</td>\n",
              "      <td>...</td>\n",
              "    </tr>\n",
              "    <tr>\n",
              "      <th>10343381</th>\n",
              "      <td>Egypt</td>\n",
              "      <td>2020-10-08</td>\n",
              "      <td>26.820553</td>\n",
              "      <td>30.802498</td>\n",
              "      <td>104156</td>\n",
              "      <td>6017</td>\n",
              "      <td>97524</td>\n",
              "    </tr>\n",
              "    <tr>\n",
              "      <th>10383022</th>\n",
              "      <td>Egypt</td>\n",
              "      <td>2020-10-09</td>\n",
              "      <td>26.820553</td>\n",
              "      <td>30.802498</td>\n",
              "      <td>104262</td>\n",
              "      <td>6029</td>\n",
              "      <td>97592</td>\n",
              "    </tr>\n",
              "    <tr>\n",
              "      <th>10422663</th>\n",
              "      <td>Egypt</td>\n",
              "      <td>2020-10-10</td>\n",
              "      <td>26.820553</td>\n",
              "      <td>30.802498</td>\n",
              "      <td>104387</td>\n",
              "      <td>6040</td>\n",
              "      <td>97643</td>\n",
              "    </tr>\n",
              "    <tr>\n",
              "      <th>10462304</th>\n",
              "      <td>Egypt</td>\n",
              "      <td>2020-10-11</td>\n",
              "      <td>26.820553</td>\n",
              "      <td>30.802498</td>\n",
              "      <td>104516</td>\n",
              "      <td>6052</td>\n",
              "      <td>97688</td>\n",
              "    </tr>\n",
              "    <tr>\n",
              "      <th>10501945</th>\n",
              "      <td>Egypt</td>\n",
              "      <td>2020-10-12</td>\n",
              "      <td>26.820553</td>\n",
              "      <td>30.802498</td>\n",
              "      <td>104648</td>\n",
              "      <td>6062</td>\n",
              "      <td>97743</td>\n",
              "    </tr>\n",
              "  </tbody>\n",
              "</table>\n",
              "<p>265 rows × 7 columns</p>\n",
              "</div>"
            ],
            "text/plain": [
              "         country       date        lat       long  confirmed  deaths  recovered\n",
              "36721      Egypt 2020-01-22  26.820553  30.802498          0       0          0\n",
              "76362      Egypt 2020-01-23  26.820553  30.802498          0       0          0\n",
              "116003     Egypt 2020-01-24  26.820553  30.802498          0       0          0\n",
              "155644     Egypt 2020-01-25  26.820553  30.802498          0       0          0\n",
              "195285     Egypt 2020-01-26  26.820553  30.802498          0       0          0\n",
              "...          ...        ...        ...        ...        ...     ...        ...\n",
              "10343381   Egypt 2020-10-08  26.820553  30.802498     104156    6017      97524\n",
              "10383022   Egypt 2020-10-09  26.820553  30.802498     104262    6029      97592\n",
              "10422663   Egypt 2020-10-10  26.820553  30.802498     104387    6040      97643\n",
              "10462304   Egypt 2020-10-11  26.820553  30.802498     104516    6052      97688\n",
              "10501945   Egypt 2020-10-12  26.820553  30.802498     104648    6062      97743\n",
              "\n",
              "[265 rows x 7 columns]"
            ]
          },
          "metadata": {
            "tags": []
          },
          "execution_count": 12
        }
      ]
    },
    {
      "cell_type": "markdown",
      "metadata": {
        "id": "HZllo7odfmni"
      },
      "source": [
        "## Add active cases"
      ]
    },
    {
      "cell_type": "code",
      "metadata": {
        "id": "qEt65EBXfr-_"
      },
      "source": [
        "df_covid['active']= df_covid['confirmed']-df_covid['deaths']-df_covid[\"recovered\"]"
      ],
      "execution_count": 13,
      "outputs": []
    },
    {
      "cell_type": "markdown",
      "metadata": {
        "id": "uT6fIQFrSpKL"
      },
      "source": [
        "## Add new confirmed, deaths and new recovered cases"
      ]
    },
    {
      "cell_type": "code",
      "metadata": {
        "id": "b2aeJDAsSrtJ"
      },
      "source": [
        "new_cases_all = df_covid.sort_values(by = ['country', 'date'])"
      ],
      "execution_count": 14,
      "outputs": []
    },
    {
      "cell_type": "code",
      "metadata": {
        "id": "zNF8XvucTdxu"
      },
      "source": [
        "new_cases_all = new_cases_all.filter(['country', 'date', 'confirmed', 'deaths', 'recovered'])"
      ],
      "execution_count": 15,
      "outputs": []
    },
    {
      "cell_type": "code",
      "metadata": {
        "id": "Yhe758BtUOG_"
      },
      "source": [
        "new_cases_all = new_cases_all.groupby(['country'])"
      ],
      "execution_count": 16,
      "outputs": []
    },
    {
      "cell_type": "code",
      "metadata": {
        "id": "YJulS7zjUoZt"
      },
      "source": [
        "new_cases_all = new_cases_all[['confirmed', 'deaths', 'recovered']].diff()"
      ],
      "execution_count": 17,
      "outputs": []
    },
    {
      "cell_type": "code",
      "metadata": {
        "id": "7iQ2cibiX4E5"
      },
      "source": [
        "new_cases_all = new_cases_all.rename(columns={'confirmed':'new_confirmed', 'deaths':'new_deaths', 'recovered': 'new_recovered'})"
      ],
      "execution_count": 18,
      "outputs": []
    },
    {
      "cell_type": "code",
      "metadata": {
        "id": "bSTapY_tdrHJ"
      },
      "source": [
        "df_covid =  df_covid.join(new_cases_all, how='left')\n"
      ],
      "execution_count": 19,
      "outputs": []
    },
    {
      "cell_type": "code",
      "metadata": {
        "id": "eNQP1G7Kg9KP"
      },
      "source": [
        ""
      ],
      "execution_count": 19,
      "outputs": []
    },
    {
      "cell_type": "markdown",
      "metadata": {
        "id": "srDMVSTJN2vu"
      },
      "source": [
        "## Keep only African countries/join countries and regions"
      ]
    },
    {
      "cell_type": "code",
      "metadata": {
        "id": "_bGcSRvqIWxG"
      },
      "source": [
        "# replace some countries names\n",
        "df_covid['country'] = df_covid['country'].replace('Cabo Verde', 'Cape Verde')\n",
        "df_covid['country'] = df_covid['country'].replace('Congo (Brazzaville)', 'Congo')\n",
        "df_covid['country'] = df_covid['country'].replace('Congo (Kinshasa)', 'Democratic Republic of Congo')\n",
        "df_covid['country'] = df_covid['country'].replace('Eswatini', 'Swaziland')"
      ],
      "execution_count": 20,
      "outputs": []
    },
    {
      "cell_type": "code",
      "metadata": {
        "id": "dcAVsXxX_LvA"
      },
      "source": [
        "region_country = pd.read_csv('/content/drive/My Drive/covid_africa_data/african_regions.csv')"
      ],
      "execution_count": 21,
      "outputs": []
    },
    {
      "cell_type": "code",
      "metadata": {
        "id": "-sTXamlK3Yom"
      },
      "source": [
        "list_country = region_country['location'].tolist()"
      ],
      "execution_count": 22,
      "outputs": []
    },
    {
      "cell_type": "code",
      "metadata": {
        "id": "DbDob90V43oF"
      },
      "source": [
        "df_covid= df_covid.loc[df_covid['country'].isin(list_country).dropna()]"
      ],
      "execution_count": 23,
      "outputs": []
    },
    {
      "cell_type": "code",
      "metadata": {
        "id": "T7OV3Bb545x7"
      },
      "source": [
        "region_country.rename(columns={'location': 'country'}, inplace=True)"
      ],
      "execution_count": 24,
      "outputs": []
    },
    {
      "cell_type": "code",
      "metadata": {
        "id": "t88QoXn7D_Ht"
      },
      "source": [
        "df_covid = df_covid.merge(region_country, on=['country'], how='inner')"
      ],
      "execution_count": 25,
      "outputs": []
    },
    {
      "cell_type": "code",
      "metadata": {
        "id": "hLRjMuq5HPC8"
      },
      "source": [
        "old_columns = [x for x in df_covid.columns if x not in ['region']]\n",
        "insert_index = old_columns.index('country') + 1\n",
        "df_covid = df_covid[old_columns[:insert_index] + ['region'] + old_columns[insert_index:]]\n"
      ],
      "execution_count": 26,
      "outputs": []
    },
    {
      "cell_type": "code",
      "metadata": {
        "id": "dtf4eRMoilEL",
        "outputId": "b0fa9ac4-746d-47c7-c7c5-ae85c2e26ef9",
        "colab": {
          "base_uri": "https://localhost:8080/",
          "height": 0
        }
      },
      "source": [
        "df_covid[df_covid['country']=='Egypt']"
      ],
      "execution_count": 27,
      "outputs": [
        {
          "output_type": "execute_result",
          "data": {
            "text/html": [
              "<div>\n",
              "<style scoped>\n",
              "    .dataframe tbody tr th:only-of-type {\n",
              "        vertical-align: middle;\n",
              "    }\n",
              "\n",
              "    .dataframe tbody tr th {\n",
              "        vertical-align: top;\n",
              "    }\n",
              "\n",
              "    .dataframe thead th {\n",
              "        text-align: right;\n",
              "    }\n",
              "</style>\n",
              "<table border=\"1\" class=\"dataframe\">\n",
              "  <thead>\n",
              "    <tr style=\"text-align: right;\">\n",
              "      <th></th>\n",
              "      <th>country</th>\n",
              "      <th>region</th>\n",
              "      <th>date</th>\n",
              "      <th>lat</th>\n",
              "      <th>long</th>\n",
              "      <th>confirmed</th>\n",
              "      <th>deaths</th>\n",
              "      <th>recovered</th>\n",
              "      <th>active</th>\n",
              "      <th>new_confirmed</th>\n",
              "      <th>new_deaths</th>\n",
              "      <th>new_recovered</th>\n",
              "    </tr>\n",
              "  </thead>\n",
              "  <tbody>\n",
              "    <tr>\n",
              "      <th>3975</th>\n",
              "      <td>Egypt</td>\n",
              "      <td>North</td>\n",
              "      <td>2020-01-22</td>\n",
              "      <td>26.820553</td>\n",
              "      <td>30.802498</td>\n",
              "      <td>0</td>\n",
              "      <td>0</td>\n",
              "      <td>0</td>\n",
              "      <td>0</td>\n",
              "      <td>NaN</td>\n",
              "      <td>NaN</td>\n",
              "      <td>NaN</td>\n",
              "    </tr>\n",
              "    <tr>\n",
              "      <th>3976</th>\n",
              "      <td>Egypt</td>\n",
              "      <td>North</td>\n",
              "      <td>2020-01-23</td>\n",
              "      <td>26.820553</td>\n",
              "      <td>30.802498</td>\n",
              "      <td>0</td>\n",
              "      <td>0</td>\n",
              "      <td>0</td>\n",
              "      <td>0</td>\n",
              "      <td>0.0</td>\n",
              "      <td>0.0</td>\n",
              "      <td>0.0</td>\n",
              "    </tr>\n",
              "    <tr>\n",
              "      <th>3977</th>\n",
              "      <td>Egypt</td>\n",
              "      <td>North</td>\n",
              "      <td>2020-01-24</td>\n",
              "      <td>26.820553</td>\n",
              "      <td>30.802498</td>\n",
              "      <td>0</td>\n",
              "      <td>0</td>\n",
              "      <td>0</td>\n",
              "      <td>0</td>\n",
              "      <td>0.0</td>\n",
              "      <td>0.0</td>\n",
              "      <td>0.0</td>\n",
              "    </tr>\n",
              "    <tr>\n",
              "      <th>3978</th>\n",
              "      <td>Egypt</td>\n",
              "      <td>North</td>\n",
              "      <td>2020-01-25</td>\n",
              "      <td>26.820553</td>\n",
              "      <td>30.802498</td>\n",
              "      <td>0</td>\n",
              "      <td>0</td>\n",
              "      <td>0</td>\n",
              "      <td>0</td>\n",
              "      <td>0.0</td>\n",
              "      <td>0.0</td>\n",
              "      <td>0.0</td>\n",
              "    </tr>\n",
              "    <tr>\n",
              "      <th>3979</th>\n",
              "      <td>Egypt</td>\n",
              "      <td>North</td>\n",
              "      <td>2020-01-26</td>\n",
              "      <td>26.820553</td>\n",
              "      <td>30.802498</td>\n",
              "      <td>0</td>\n",
              "      <td>0</td>\n",
              "      <td>0</td>\n",
              "      <td>0</td>\n",
              "      <td>0.0</td>\n",
              "      <td>0.0</td>\n",
              "      <td>0.0</td>\n",
              "    </tr>\n",
              "    <tr>\n",
              "      <th>...</th>\n",
              "      <td>...</td>\n",
              "      <td>...</td>\n",
              "      <td>...</td>\n",
              "      <td>...</td>\n",
              "      <td>...</td>\n",
              "      <td>...</td>\n",
              "      <td>...</td>\n",
              "      <td>...</td>\n",
              "      <td>...</td>\n",
              "      <td>...</td>\n",
              "      <td>...</td>\n",
              "      <td>...</td>\n",
              "    </tr>\n",
              "    <tr>\n",
              "      <th>4235</th>\n",
              "      <td>Egypt</td>\n",
              "      <td>North</td>\n",
              "      <td>2020-10-08</td>\n",
              "      <td>26.820553</td>\n",
              "      <td>30.802498</td>\n",
              "      <td>104156</td>\n",
              "      <td>6017</td>\n",
              "      <td>97524</td>\n",
              "      <td>615</td>\n",
              "      <td>121.0</td>\n",
              "      <td>7.0</td>\n",
              "      <td>32.0</td>\n",
              "    </tr>\n",
              "    <tr>\n",
              "      <th>4236</th>\n",
              "      <td>Egypt</td>\n",
              "      <td>North</td>\n",
              "      <td>2020-10-09</td>\n",
              "      <td>26.820553</td>\n",
              "      <td>30.802498</td>\n",
              "      <td>104262</td>\n",
              "      <td>6029</td>\n",
              "      <td>97592</td>\n",
              "      <td>641</td>\n",
              "      <td>106.0</td>\n",
              "      <td>12.0</td>\n",
              "      <td>68.0</td>\n",
              "    </tr>\n",
              "    <tr>\n",
              "      <th>4237</th>\n",
              "      <td>Egypt</td>\n",
              "      <td>North</td>\n",
              "      <td>2020-10-10</td>\n",
              "      <td>26.820553</td>\n",
              "      <td>30.802498</td>\n",
              "      <td>104387</td>\n",
              "      <td>6040</td>\n",
              "      <td>97643</td>\n",
              "      <td>704</td>\n",
              "      <td>125.0</td>\n",
              "      <td>11.0</td>\n",
              "      <td>51.0</td>\n",
              "    </tr>\n",
              "    <tr>\n",
              "      <th>4238</th>\n",
              "      <td>Egypt</td>\n",
              "      <td>North</td>\n",
              "      <td>2020-10-11</td>\n",
              "      <td>26.820553</td>\n",
              "      <td>30.802498</td>\n",
              "      <td>104516</td>\n",
              "      <td>6052</td>\n",
              "      <td>97688</td>\n",
              "      <td>776</td>\n",
              "      <td>129.0</td>\n",
              "      <td>12.0</td>\n",
              "      <td>45.0</td>\n",
              "    </tr>\n",
              "    <tr>\n",
              "      <th>4239</th>\n",
              "      <td>Egypt</td>\n",
              "      <td>North</td>\n",
              "      <td>2020-10-12</td>\n",
              "      <td>26.820553</td>\n",
              "      <td>30.802498</td>\n",
              "      <td>104648</td>\n",
              "      <td>6062</td>\n",
              "      <td>97743</td>\n",
              "      <td>843</td>\n",
              "      <td>132.0</td>\n",
              "      <td>10.0</td>\n",
              "      <td>55.0</td>\n",
              "    </tr>\n",
              "  </tbody>\n",
              "</table>\n",
              "<p>265 rows × 12 columns</p>\n",
              "</div>"
            ],
            "text/plain": [
              "     country region       date  ...  new_confirmed  new_deaths  new_recovered\n",
              "3975   Egypt  North 2020-01-22  ...            NaN         NaN            NaN\n",
              "3976   Egypt  North 2020-01-23  ...            0.0         0.0            0.0\n",
              "3977   Egypt  North 2020-01-24  ...            0.0         0.0            0.0\n",
              "3978   Egypt  North 2020-01-25  ...            0.0         0.0            0.0\n",
              "3979   Egypt  North 2020-01-26  ...            0.0         0.0            0.0\n",
              "...      ...    ...        ...  ...            ...         ...            ...\n",
              "4235   Egypt  North 2020-10-08  ...          121.0         7.0           32.0\n",
              "4236   Egypt  North 2020-10-09  ...          106.0        12.0           68.0\n",
              "4237   Egypt  North 2020-10-10  ...          125.0        11.0           51.0\n",
              "4238   Egypt  North 2020-10-11  ...          129.0        12.0           45.0\n",
              "4239   Egypt  North 2020-10-12  ...          132.0        10.0           55.0\n",
              "\n",
              "[265 rows x 12 columns]"
            ]
          },
          "metadata": {
            "tags": []
          },
          "execution_count": 27
        }
      ]
    },
    {
      "cell_type": "code",
      "metadata": {
        "id": "oUdVTeFq7R2w"
      },
      "source": [
        "df_covid.to_csv('african_covid_report.csv', index_label=False)"
      ],
      "execution_count": 28,
      "outputs": []
    },
    {
      "cell_type": "code",
      "metadata": {
        "id": "ZLkPhgaeCay3"
      },
      "source": [
        "df_covid.to_csv('/content/drive/My Drive/african_covid_report.csv', index_label=False)"
      ],
      "execution_count": 29,
      "outputs": []
    },
    {
      "cell_type": "code",
      "metadata": {
        "id": "l_7UaZlSNX_V"
      },
      "source": [
        "df = pd.read_csv('/content/african_covid_report.csv')"
      ],
      "execution_count": 30,
      "outputs": []
    },
    {
      "cell_type": "code",
      "metadata": {
        "id": "prRUQH1QvxaE"
      },
      "source": [
        "country_code = pd.read_csv('countrycode_data.csv')\n"
      ],
      "execution_count": 31,
      "outputs": []
    },
    {
      "cell_type": "code",
      "metadata": {
        "id": "RDf_1Gyiv3rI"
      },
      "source": [
        "country_code = country_code[country_code['continent']=='Africa']\n",
        "country_code['country_name']=country_code['country_name'].str.title()\n",
        "country_code['country_name'] =country_code['country_name'].replace(\"Cote D'Ivoire\",\"Cote d'Ivoire\")\n",
        "country_code['country_name']=country_code['country_name'].replace('Congo, The Democratic Republic Of','Democratic Republic of Congo')\n",
        "country_code['country_name']=country_code['country_name'].replace('Congo, Republic Of','Congo')\n",
        "country_code['country_name']=country_code['country_name'].replace('Libyan Arab Jamahiriya','Libya')\n",
        "country_code['country_name']=country_code['country_name'].replace('Sao Tome And Principe', 'Sao Tome and Principe')\n",
        "country_code['country_name']=country_code['country_name'].replace('Tanzania, United Republic Of', 'Tanzania')\n",
        "\n"
      ],
      "execution_count": 32,
      "outputs": []
    },
    {
      "cell_type": "code",
      "metadata": {
        "id": "HLyKFSxJ9wgo"
      },
      "source": [
        "country_code=country_code.rename(columns={'country_name':'country'})"
      ],
      "execution_count": 33,
      "outputs": []
    },
    {
      "cell_type": "code",
      "metadata": {
        "id": "MQZTrOgzCq51"
      },
      "source": [
        "country_code = country_code.sort_values('country', ascending=True)\n"
      ],
      "execution_count": 34,
      "outputs": []
    },
    {
      "cell_type": "code",
      "metadata": {
        "id": "hqv1kdvWDNz0"
      },
      "source": [
        "df= pd.merge(df, country_code, how='left', on=['country'])"
      ],
      "execution_count": 35,
      "outputs": []
    },
    {
      "cell_type": "code",
      "metadata": {
        "id": "leRedECbL9CS",
        "outputId": "cfd465cb-4f5d-4b8b-82ab-dfea1529a472",
        "colab": {
          "base_uri": "https://localhost:8080/",
          "height": 0
        }
      },
      "source": [
        "df.head()"
      ],
      "execution_count": 36,
      "outputs": [
        {
          "output_type": "execute_result",
          "data": {
            "text/html": [
              "<div>\n",
              "<style scoped>\n",
              "    .dataframe tbody tr th:only-of-type {\n",
              "        vertical-align: middle;\n",
              "    }\n",
              "\n",
              "    .dataframe tbody tr th {\n",
              "        vertical-align: top;\n",
              "    }\n",
              "\n",
              "    .dataframe thead th {\n",
              "        text-align: right;\n",
              "    }\n",
              "</style>\n",
              "<table border=\"1\" class=\"dataframe\">\n",
              "  <thead>\n",
              "    <tr style=\"text-align: right;\">\n",
              "      <th></th>\n",
              "      <th>country</th>\n",
              "      <th>region_x</th>\n",
              "      <th>date</th>\n",
              "      <th>lat</th>\n",
              "      <th>long</th>\n",
              "      <th>confirmed</th>\n",
              "      <th>deaths</th>\n",
              "      <th>recovered</th>\n",
              "      <th>active</th>\n",
              "      <th>new_confirmed</th>\n",
              "      <th>new_deaths</th>\n",
              "      <th>new_recovered</th>\n",
              "      <th>cowc</th>\n",
              "      <th>cown</th>\n",
              "      <th>fao</th>\n",
              "      <th>fips104</th>\n",
              "      <th>imf</th>\n",
              "      <th>iso2c</th>\n",
              "      <th>iso3c</th>\n",
              "      <th>iso3n</th>\n",
              "      <th>un</th>\n",
              "      <th>wb</th>\n",
              "      <th>continent</th>\n",
              "      <th>region_y</th>\n",
              "      <th>regex</th>\n",
              "    </tr>\n",
              "  </thead>\n",
              "  <tbody>\n",
              "    <tr>\n",
              "      <th>0</th>\n",
              "      <td>Algeria</td>\n",
              "      <td>North</td>\n",
              "      <td>2020-01-22</td>\n",
              "      <td>28.0339</td>\n",
              "      <td>1.6596</td>\n",
              "      <td>0</td>\n",
              "      <td>0</td>\n",
              "      <td>0</td>\n",
              "      <td>0</td>\n",
              "      <td>NaN</td>\n",
              "      <td>NaN</td>\n",
              "      <td>NaN</td>\n",
              "      <td>ALG</td>\n",
              "      <td>615.0</td>\n",
              "      <td>4.0</td>\n",
              "      <td>AG</td>\n",
              "      <td>612.0</td>\n",
              "      <td>DZ</td>\n",
              "      <td>DZA</td>\n",
              "      <td>12.0</td>\n",
              "      <td>12.0</td>\n",
              "      <td>DZA</td>\n",
              "      <td>Africa</td>\n",
              "      <td>Northern Africa</td>\n",
              "      <td>.*algeria.*</td>\n",
              "    </tr>\n",
              "    <tr>\n",
              "      <th>1</th>\n",
              "      <td>Algeria</td>\n",
              "      <td>North</td>\n",
              "      <td>2020-01-23</td>\n",
              "      <td>28.0339</td>\n",
              "      <td>1.6596</td>\n",
              "      <td>0</td>\n",
              "      <td>0</td>\n",
              "      <td>0</td>\n",
              "      <td>0</td>\n",
              "      <td>0.0</td>\n",
              "      <td>0.0</td>\n",
              "      <td>0.0</td>\n",
              "      <td>ALG</td>\n",
              "      <td>615.0</td>\n",
              "      <td>4.0</td>\n",
              "      <td>AG</td>\n",
              "      <td>612.0</td>\n",
              "      <td>DZ</td>\n",
              "      <td>DZA</td>\n",
              "      <td>12.0</td>\n",
              "      <td>12.0</td>\n",
              "      <td>DZA</td>\n",
              "      <td>Africa</td>\n",
              "      <td>Northern Africa</td>\n",
              "      <td>.*algeria.*</td>\n",
              "    </tr>\n",
              "    <tr>\n",
              "      <th>2</th>\n",
              "      <td>Algeria</td>\n",
              "      <td>North</td>\n",
              "      <td>2020-01-24</td>\n",
              "      <td>28.0339</td>\n",
              "      <td>1.6596</td>\n",
              "      <td>0</td>\n",
              "      <td>0</td>\n",
              "      <td>0</td>\n",
              "      <td>0</td>\n",
              "      <td>0.0</td>\n",
              "      <td>0.0</td>\n",
              "      <td>0.0</td>\n",
              "      <td>ALG</td>\n",
              "      <td>615.0</td>\n",
              "      <td>4.0</td>\n",
              "      <td>AG</td>\n",
              "      <td>612.0</td>\n",
              "      <td>DZ</td>\n",
              "      <td>DZA</td>\n",
              "      <td>12.0</td>\n",
              "      <td>12.0</td>\n",
              "      <td>DZA</td>\n",
              "      <td>Africa</td>\n",
              "      <td>Northern Africa</td>\n",
              "      <td>.*algeria.*</td>\n",
              "    </tr>\n",
              "    <tr>\n",
              "      <th>3</th>\n",
              "      <td>Algeria</td>\n",
              "      <td>North</td>\n",
              "      <td>2020-01-25</td>\n",
              "      <td>28.0339</td>\n",
              "      <td>1.6596</td>\n",
              "      <td>0</td>\n",
              "      <td>0</td>\n",
              "      <td>0</td>\n",
              "      <td>0</td>\n",
              "      <td>0.0</td>\n",
              "      <td>0.0</td>\n",
              "      <td>0.0</td>\n",
              "      <td>ALG</td>\n",
              "      <td>615.0</td>\n",
              "      <td>4.0</td>\n",
              "      <td>AG</td>\n",
              "      <td>612.0</td>\n",
              "      <td>DZ</td>\n",
              "      <td>DZA</td>\n",
              "      <td>12.0</td>\n",
              "      <td>12.0</td>\n",
              "      <td>DZA</td>\n",
              "      <td>Africa</td>\n",
              "      <td>Northern Africa</td>\n",
              "      <td>.*algeria.*</td>\n",
              "    </tr>\n",
              "    <tr>\n",
              "      <th>4</th>\n",
              "      <td>Algeria</td>\n",
              "      <td>North</td>\n",
              "      <td>2020-01-26</td>\n",
              "      <td>28.0339</td>\n",
              "      <td>1.6596</td>\n",
              "      <td>0</td>\n",
              "      <td>0</td>\n",
              "      <td>0</td>\n",
              "      <td>0</td>\n",
              "      <td>0.0</td>\n",
              "      <td>0.0</td>\n",
              "      <td>0.0</td>\n",
              "      <td>ALG</td>\n",
              "      <td>615.0</td>\n",
              "      <td>4.0</td>\n",
              "      <td>AG</td>\n",
              "      <td>612.0</td>\n",
              "      <td>DZ</td>\n",
              "      <td>DZA</td>\n",
              "      <td>12.0</td>\n",
              "      <td>12.0</td>\n",
              "      <td>DZA</td>\n",
              "      <td>Africa</td>\n",
              "      <td>Northern Africa</td>\n",
              "      <td>.*algeria.*</td>\n",
              "    </tr>\n",
              "  </tbody>\n",
              "</table>\n",
              "</div>"
            ],
            "text/plain": [
              "   country region_x        date  ...  continent         region_y        regex\n",
              "0  Algeria    North  2020-01-22  ...     Africa  Northern Africa  .*algeria.*\n",
              "1  Algeria    North  2020-01-23  ...     Africa  Northern Africa  .*algeria.*\n",
              "2  Algeria    North  2020-01-24  ...     Africa  Northern Africa  .*algeria.*\n",
              "3  Algeria    North  2020-01-25  ...     Africa  Northern Africa  .*algeria.*\n",
              "4  Algeria    North  2020-01-26  ...     Africa  Northern Africa  .*algeria.*\n",
              "\n",
              "[5 rows x 25 columns]"
            ]
          },
          "metadata": {
            "tags": []
          },
          "execution_count": 36
        }
      ]
    },
    {
      "cell_type": "code",
      "metadata": {
        "id": "Y1ANbRltMPdW"
      },
      "source": [
        "df = df.drop(columns=['region_y', 'cowc','cown', 'fao','fips104','imf','iso2c', 'iso3n','un','wb','continent', 'regex'])"
      ],
      "execution_count": 37,
      "outputs": []
    },
    {
      "cell_type": "code",
      "metadata": {
        "id": "88q_J80QDuPr",
        "outputId": "7498a47c-9102-46e5-ed02-1dc2afd72e38",
        "colab": {
          "base_uri": "https://localhost:8080/",
          "height": 0
        }
      },
      "source": [
        "df"
      ],
      "execution_count": 38,
      "outputs": [
        {
          "output_type": "execute_result",
          "data": {
            "text/html": [
              "<div>\n",
              "<style scoped>\n",
              "    .dataframe tbody tr th:only-of-type {\n",
              "        vertical-align: middle;\n",
              "    }\n",
              "\n",
              "    .dataframe tbody tr th {\n",
              "        vertical-align: top;\n",
              "    }\n",
              "\n",
              "    .dataframe thead th {\n",
              "        text-align: right;\n",
              "    }\n",
              "</style>\n",
              "<table border=\"1\" class=\"dataframe\">\n",
              "  <thead>\n",
              "    <tr style=\"text-align: right;\">\n",
              "      <th></th>\n",
              "      <th>country</th>\n",
              "      <th>region_x</th>\n",
              "      <th>date</th>\n",
              "      <th>lat</th>\n",
              "      <th>long</th>\n",
              "      <th>confirmed</th>\n",
              "      <th>deaths</th>\n",
              "      <th>recovered</th>\n",
              "      <th>active</th>\n",
              "      <th>new_confirmed</th>\n",
              "      <th>new_deaths</th>\n",
              "      <th>new_recovered</th>\n",
              "      <th>iso3c</th>\n",
              "    </tr>\n",
              "  </thead>\n",
              "  <tbody>\n",
              "    <tr>\n",
              "      <th>0</th>\n",
              "      <td>Algeria</td>\n",
              "      <td>North</td>\n",
              "      <td>2020-01-22</td>\n",
              "      <td>28.033900</td>\n",
              "      <td>1.659600</td>\n",
              "      <td>0</td>\n",
              "      <td>0</td>\n",
              "      <td>0</td>\n",
              "      <td>0</td>\n",
              "      <td>NaN</td>\n",
              "      <td>NaN</td>\n",
              "      <td>NaN</td>\n",
              "      <td>DZA</td>\n",
              "    </tr>\n",
              "    <tr>\n",
              "      <th>1</th>\n",
              "      <td>Algeria</td>\n",
              "      <td>North</td>\n",
              "      <td>2020-01-23</td>\n",
              "      <td>28.033900</td>\n",
              "      <td>1.659600</td>\n",
              "      <td>0</td>\n",
              "      <td>0</td>\n",
              "      <td>0</td>\n",
              "      <td>0</td>\n",
              "      <td>0.0</td>\n",
              "      <td>0.0</td>\n",
              "      <td>0.0</td>\n",
              "      <td>DZA</td>\n",
              "    </tr>\n",
              "    <tr>\n",
              "      <th>2</th>\n",
              "      <td>Algeria</td>\n",
              "      <td>North</td>\n",
              "      <td>2020-01-24</td>\n",
              "      <td>28.033900</td>\n",
              "      <td>1.659600</td>\n",
              "      <td>0</td>\n",
              "      <td>0</td>\n",
              "      <td>0</td>\n",
              "      <td>0</td>\n",
              "      <td>0.0</td>\n",
              "      <td>0.0</td>\n",
              "      <td>0.0</td>\n",
              "      <td>DZA</td>\n",
              "    </tr>\n",
              "    <tr>\n",
              "      <th>3</th>\n",
              "      <td>Algeria</td>\n",
              "      <td>North</td>\n",
              "      <td>2020-01-25</td>\n",
              "      <td>28.033900</td>\n",
              "      <td>1.659600</td>\n",
              "      <td>0</td>\n",
              "      <td>0</td>\n",
              "      <td>0</td>\n",
              "      <td>0</td>\n",
              "      <td>0.0</td>\n",
              "      <td>0.0</td>\n",
              "      <td>0.0</td>\n",
              "      <td>DZA</td>\n",
              "    </tr>\n",
              "    <tr>\n",
              "      <th>4</th>\n",
              "      <td>Algeria</td>\n",
              "      <td>North</td>\n",
              "      <td>2020-01-26</td>\n",
              "      <td>28.033900</td>\n",
              "      <td>1.659600</td>\n",
              "      <td>0</td>\n",
              "      <td>0</td>\n",
              "      <td>0</td>\n",
              "      <td>0</td>\n",
              "      <td>0.0</td>\n",
              "      <td>0.0</td>\n",
              "      <td>0.0</td>\n",
              "      <td>DZA</td>\n",
              "    </tr>\n",
              "    <tr>\n",
              "      <th>...</th>\n",
              "      <td>...</td>\n",
              "      <td>...</td>\n",
              "      <td>...</td>\n",
              "      <td>...</td>\n",
              "      <td>...</td>\n",
              "      <td>...</td>\n",
              "      <td>...</td>\n",
              "      <td>...</td>\n",
              "      <td>...</td>\n",
              "      <td>...</td>\n",
              "      <td>...</td>\n",
              "      <td>...</td>\n",
              "      <td>...</td>\n",
              "    </tr>\n",
              "    <tr>\n",
              "      <th>14570</th>\n",
              "      <td>Zimbabwe</td>\n",
              "      <td>Southern</td>\n",
              "      <td>2020-10-08</td>\n",
              "      <td>-19.015438</td>\n",
              "      <td>29.154857</td>\n",
              "      <td>7951</td>\n",
              "      <td>229</td>\n",
              "      <td>6446</td>\n",
              "      <td>1276</td>\n",
              "      <td>32.0</td>\n",
              "      <td>0.0</td>\n",
              "      <td>5.0</td>\n",
              "      <td>ZWE</td>\n",
              "    </tr>\n",
              "    <tr>\n",
              "      <th>14571</th>\n",
              "      <td>Zimbabwe</td>\n",
              "      <td>Southern</td>\n",
              "      <td>2020-10-09</td>\n",
              "      <td>-19.015438</td>\n",
              "      <td>29.154857</td>\n",
              "      <td>7994</td>\n",
              "      <td>229</td>\n",
              "      <td>6474</td>\n",
              "      <td>1291</td>\n",
              "      <td>43.0</td>\n",
              "      <td>0.0</td>\n",
              "      <td>28.0</td>\n",
              "      <td>ZWE</td>\n",
              "    </tr>\n",
              "    <tr>\n",
              "      <th>14572</th>\n",
              "      <td>Zimbabwe</td>\n",
              "      <td>Southern</td>\n",
              "      <td>2020-10-10</td>\n",
              "      <td>-19.015438</td>\n",
              "      <td>29.154857</td>\n",
              "      <td>8010</td>\n",
              "      <td>230</td>\n",
              "      <td>6492</td>\n",
              "      <td>1288</td>\n",
              "      <td>16.0</td>\n",
              "      <td>1.0</td>\n",
              "      <td>18.0</td>\n",
              "      <td>ZWE</td>\n",
              "    </tr>\n",
              "    <tr>\n",
              "      <th>14573</th>\n",
              "      <td>Zimbabwe</td>\n",
              "      <td>Southern</td>\n",
              "      <td>2020-10-11</td>\n",
              "      <td>-19.015438</td>\n",
              "      <td>29.154857</td>\n",
              "      <td>8011</td>\n",
              "      <td>230</td>\n",
              "      <td>6504</td>\n",
              "      <td>1277</td>\n",
              "      <td>1.0</td>\n",
              "      <td>0.0</td>\n",
              "      <td>12.0</td>\n",
              "      <td>ZWE</td>\n",
              "    </tr>\n",
              "    <tr>\n",
              "      <th>14574</th>\n",
              "      <td>Zimbabwe</td>\n",
              "      <td>Southern</td>\n",
              "      <td>2020-10-12</td>\n",
              "      <td>-19.015438</td>\n",
              "      <td>29.154857</td>\n",
              "      <td>8021</td>\n",
              "      <td>230</td>\n",
              "      <td>7627</td>\n",
              "      <td>164</td>\n",
              "      <td>10.0</td>\n",
              "      <td>0.0</td>\n",
              "      <td>1123.0</td>\n",
              "      <td>ZWE</td>\n",
              "    </tr>\n",
              "  </tbody>\n",
              "</table>\n",
              "<p>14575 rows × 13 columns</p>\n",
              "</div>"
            ],
            "text/plain": [
              "        country  region_x        date  ...  new_deaths  new_recovered  iso3c\n",
              "0       Algeria     North  2020-01-22  ...         NaN            NaN    DZA\n",
              "1       Algeria     North  2020-01-23  ...         0.0            0.0    DZA\n",
              "2       Algeria     North  2020-01-24  ...         0.0            0.0    DZA\n",
              "3       Algeria     North  2020-01-25  ...         0.0            0.0    DZA\n",
              "4       Algeria     North  2020-01-26  ...         0.0            0.0    DZA\n",
              "...         ...       ...         ...  ...         ...            ...    ...\n",
              "14570  Zimbabwe  Southern  2020-10-08  ...         0.0            5.0    ZWE\n",
              "14571  Zimbabwe  Southern  2020-10-09  ...         0.0           28.0    ZWE\n",
              "14572  Zimbabwe  Southern  2020-10-10  ...         1.0           18.0    ZWE\n",
              "14573  Zimbabwe  Southern  2020-10-11  ...         0.0           12.0    ZWE\n",
              "14574  Zimbabwe  Southern  2020-10-12  ...         0.0         1123.0    ZWE\n",
              "\n",
              "[14575 rows x 13 columns]"
            ]
          },
          "metadata": {
            "tags": []
          },
          "execution_count": 38
        }
      ]
    },
    {
      "cell_type": "code",
      "metadata": {
        "id": "Aa6yjdgQHeku"
      },
      "source": [
        "df = df.rename(columns={'region_x': 'region', 'iso3c': 'iso_alpha'})\n"
      ],
      "execution_count": 39,
      "outputs": []
    },
    {
      "cell_type": "code",
      "metadata": {
        "id": "Ac2bprQiauFN"
      },
      "source": [
        "df = df[['country'] + ['iso_alpha', 'region'] + ['date', 'lat', 'long', 'confirmed', 'deaths', 'recovered', 'active', 'new_confirmed', 'new_deaths', 'new_recovered']]\n"
      ],
      "execution_count": 40,
      "outputs": []
    },
    {
      "cell_type": "code",
      "metadata": {
        "id": "gVok5RFja6gy"
      },
      "source": [
        "df.to_csv('african_covid_report_updated.csv', index_label=False)"
      ],
      "execution_count": 41,
      "outputs": []
    },
    {
      "cell_type": "code",
      "metadata": {
        "id": "JxJBlUpQeHod"
      },
      "source": [
        "df.to_csv('african_covid_report_last.csv', index_label = False)"
      ],
      "execution_count": 42,
      "outputs": []
    },
    {
      "cell_type": "code",
      "metadata": {
        "id": "KOaPwMY_eJH5",
        "outputId": "6cce5c26-a2df-41d4-c05c-60ac6bc6b70f",
        "colab": {
          "base_uri": "https://localhost:8080/",
          "height": 0
        }
      },
      "source": [
        "df[df['country']=='Egypt']"
      ],
      "execution_count": 43,
      "outputs": [
        {
          "output_type": "execute_result",
          "data": {
            "text/html": [
              "<div>\n",
              "<style scoped>\n",
              "    .dataframe tbody tr th:only-of-type {\n",
              "        vertical-align: middle;\n",
              "    }\n",
              "\n",
              "    .dataframe tbody tr th {\n",
              "        vertical-align: top;\n",
              "    }\n",
              "\n",
              "    .dataframe thead th {\n",
              "        text-align: right;\n",
              "    }\n",
              "</style>\n",
              "<table border=\"1\" class=\"dataframe\">\n",
              "  <thead>\n",
              "    <tr style=\"text-align: right;\">\n",
              "      <th></th>\n",
              "      <th>country</th>\n",
              "      <th>iso_alpha</th>\n",
              "      <th>region</th>\n",
              "      <th>date</th>\n",
              "      <th>lat</th>\n",
              "      <th>long</th>\n",
              "      <th>confirmed</th>\n",
              "      <th>deaths</th>\n",
              "      <th>recovered</th>\n",
              "      <th>active</th>\n",
              "      <th>new_confirmed</th>\n",
              "      <th>new_deaths</th>\n",
              "      <th>new_recovered</th>\n",
              "    </tr>\n",
              "  </thead>\n",
              "  <tbody>\n",
              "    <tr>\n",
              "      <th>3975</th>\n",
              "      <td>Egypt</td>\n",
              "      <td>EGY</td>\n",
              "      <td>North</td>\n",
              "      <td>2020-01-22</td>\n",
              "      <td>26.820553</td>\n",
              "      <td>30.802498</td>\n",
              "      <td>0</td>\n",
              "      <td>0</td>\n",
              "      <td>0</td>\n",
              "      <td>0</td>\n",
              "      <td>NaN</td>\n",
              "      <td>NaN</td>\n",
              "      <td>NaN</td>\n",
              "    </tr>\n",
              "    <tr>\n",
              "      <th>3976</th>\n",
              "      <td>Egypt</td>\n",
              "      <td>EGY</td>\n",
              "      <td>North</td>\n",
              "      <td>2020-01-23</td>\n",
              "      <td>26.820553</td>\n",
              "      <td>30.802498</td>\n",
              "      <td>0</td>\n",
              "      <td>0</td>\n",
              "      <td>0</td>\n",
              "      <td>0</td>\n",
              "      <td>0.0</td>\n",
              "      <td>0.0</td>\n",
              "      <td>0.0</td>\n",
              "    </tr>\n",
              "    <tr>\n",
              "      <th>3977</th>\n",
              "      <td>Egypt</td>\n",
              "      <td>EGY</td>\n",
              "      <td>North</td>\n",
              "      <td>2020-01-24</td>\n",
              "      <td>26.820553</td>\n",
              "      <td>30.802498</td>\n",
              "      <td>0</td>\n",
              "      <td>0</td>\n",
              "      <td>0</td>\n",
              "      <td>0</td>\n",
              "      <td>0.0</td>\n",
              "      <td>0.0</td>\n",
              "      <td>0.0</td>\n",
              "    </tr>\n",
              "    <tr>\n",
              "      <th>3978</th>\n",
              "      <td>Egypt</td>\n",
              "      <td>EGY</td>\n",
              "      <td>North</td>\n",
              "      <td>2020-01-25</td>\n",
              "      <td>26.820553</td>\n",
              "      <td>30.802498</td>\n",
              "      <td>0</td>\n",
              "      <td>0</td>\n",
              "      <td>0</td>\n",
              "      <td>0</td>\n",
              "      <td>0.0</td>\n",
              "      <td>0.0</td>\n",
              "      <td>0.0</td>\n",
              "    </tr>\n",
              "    <tr>\n",
              "      <th>3979</th>\n",
              "      <td>Egypt</td>\n",
              "      <td>EGY</td>\n",
              "      <td>North</td>\n",
              "      <td>2020-01-26</td>\n",
              "      <td>26.820553</td>\n",
              "      <td>30.802498</td>\n",
              "      <td>0</td>\n",
              "      <td>0</td>\n",
              "      <td>0</td>\n",
              "      <td>0</td>\n",
              "      <td>0.0</td>\n",
              "      <td>0.0</td>\n",
              "      <td>0.0</td>\n",
              "    </tr>\n",
              "    <tr>\n",
              "      <th>...</th>\n",
              "      <td>...</td>\n",
              "      <td>...</td>\n",
              "      <td>...</td>\n",
              "      <td>...</td>\n",
              "      <td>...</td>\n",
              "      <td>...</td>\n",
              "      <td>...</td>\n",
              "      <td>...</td>\n",
              "      <td>...</td>\n",
              "      <td>...</td>\n",
              "      <td>...</td>\n",
              "      <td>...</td>\n",
              "      <td>...</td>\n",
              "    </tr>\n",
              "    <tr>\n",
              "      <th>4235</th>\n",
              "      <td>Egypt</td>\n",
              "      <td>EGY</td>\n",
              "      <td>North</td>\n",
              "      <td>2020-10-08</td>\n",
              "      <td>26.820553</td>\n",
              "      <td>30.802498</td>\n",
              "      <td>104156</td>\n",
              "      <td>6017</td>\n",
              "      <td>97524</td>\n",
              "      <td>615</td>\n",
              "      <td>121.0</td>\n",
              "      <td>7.0</td>\n",
              "      <td>32.0</td>\n",
              "    </tr>\n",
              "    <tr>\n",
              "      <th>4236</th>\n",
              "      <td>Egypt</td>\n",
              "      <td>EGY</td>\n",
              "      <td>North</td>\n",
              "      <td>2020-10-09</td>\n",
              "      <td>26.820553</td>\n",
              "      <td>30.802498</td>\n",
              "      <td>104262</td>\n",
              "      <td>6029</td>\n",
              "      <td>97592</td>\n",
              "      <td>641</td>\n",
              "      <td>106.0</td>\n",
              "      <td>12.0</td>\n",
              "      <td>68.0</td>\n",
              "    </tr>\n",
              "    <tr>\n",
              "      <th>4237</th>\n",
              "      <td>Egypt</td>\n",
              "      <td>EGY</td>\n",
              "      <td>North</td>\n",
              "      <td>2020-10-10</td>\n",
              "      <td>26.820553</td>\n",
              "      <td>30.802498</td>\n",
              "      <td>104387</td>\n",
              "      <td>6040</td>\n",
              "      <td>97643</td>\n",
              "      <td>704</td>\n",
              "      <td>125.0</td>\n",
              "      <td>11.0</td>\n",
              "      <td>51.0</td>\n",
              "    </tr>\n",
              "    <tr>\n",
              "      <th>4238</th>\n",
              "      <td>Egypt</td>\n",
              "      <td>EGY</td>\n",
              "      <td>North</td>\n",
              "      <td>2020-10-11</td>\n",
              "      <td>26.820553</td>\n",
              "      <td>30.802498</td>\n",
              "      <td>104516</td>\n",
              "      <td>6052</td>\n",
              "      <td>97688</td>\n",
              "      <td>776</td>\n",
              "      <td>129.0</td>\n",
              "      <td>12.0</td>\n",
              "      <td>45.0</td>\n",
              "    </tr>\n",
              "    <tr>\n",
              "      <th>4239</th>\n",
              "      <td>Egypt</td>\n",
              "      <td>EGY</td>\n",
              "      <td>North</td>\n",
              "      <td>2020-10-12</td>\n",
              "      <td>26.820553</td>\n",
              "      <td>30.802498</td>\n",
              "      <td>104648</td>\n",
              "      <td>6062</td>\n",
              "      <td>97743</td>\n",
              "      <td>843</td>\n",
              "      <td>132.0</td>\n",
              "      <td>10.0</td>\n",
              "      <td>55.0</td>\n",
              "    </tr>\n",
              "  </tbody>\n",
              "</table>\n",
              "<p>265 rows × 13 columns</p>\n",
              "</div>"
            ],
            "text/plain": [
              "     country iso_alpha region  ... new_confirmed  new_deaths  new_recovered\n",
              "3975   Egypt       EGY  North  ...           NaN         NaN            NaN\n",
              "3976   Egypt       EGY  North  ...           0.0         0.0            0.0\n",
              "3977   Egypt       EGY  North  ...           0.0         0.0            0.0\n",
              "3978   Egypt       EGY  North  ...           0.0         0.0            0.0\n",
              "3979   Egypt       EGY  North  ...           0.0         0.0            0.0\n",
              "...      ...       ...    ...  ...           ...         ...            ...\n",
              "4235   Egypt       EGY  North  ...         121.0         7.0           32.0\n",
              "4236   Egypt       EGY  North  ...         106.0        12.0           68.0\n",
              "4237   Egypt       EGY  North  ...         125.0        11.0           51.0\n",
              "4238   Egypt       EGY  North  ...         129.0        12.0           45.0\n",
              "4239   Egypt       EGY  North  ...         132.0        10.0           55.0\n",
              "\n",
              "[265 rows x 13 columns]"
            ]
          },
          "metadata": {
            "tags": []
          },
          "execution_count": 43
        }
      ]
    },
    {
      "cell_type": "markdown",
      "metadata": {
        "id": "gO7mI_tyLml6"
      },
      "source": [
        "## Insert country pop"
      ]
    },
    {
      "cell_type": "code",
      "metadata": {
        "id": "xk2vEIRCLvTE"
      },
      "source": [
        "df_pop = pd.read_csv('https://raw.githubusercontent.com/owid/covid-19-data/master/public/data/owid-covid-data.csv')"
      ],
      "execution_count": 44,
      "outputs": []
    },
    {
      "cell_type": "code",
      "metadata": {
        "id": "5ALLva3hNYP8",
        "outputId": "b8d34284-86a8-4559-cd79-2463b421b3e5",
        "colab": {
          "base_uri": "https://localhost:8080/",
          "height": 309
        }
      },
      "source": [
        "df_pop.head()"
      ],
      "execution_count": 45,
      "outputs": [
        {
          "output_type": "execute_result",
          "data": {
            "text/html": [
              "<div>\n",
              "<style scoped>\n",
              "    .dataframe tbody tr th:only-of-type {\n",
              "        vertical-align: middle;\n",
              "    }\n",
              "\n",
              "    .dataframe tbody tr th {\n",
              "        vertical-align: top;\n",
              "    }\n",
              "\n",
              "    .dataframe thead th {\n",
              "        text-align: right;\n",
              "    }\n",
              "</style>\n",
              "<table border=\"1\" class=\"dataframe\">\n",
              "  <thead>\n",
              "    <tr style=\"text-align: right;\">\n",
              "      <th></th>\n",
              "      <th>iso_code</th>\n",
              "      <th>continent</th>\n",
              "      <th>location</th>\n",
              "      <th>date</th>\n",
              "      <th>total_cases</th>\n",
              "      <th>new_cases</th>\n",
              "      <th>new_cases_smoothed</th>\n",
              "      <th>total_deaths</th>\n",
              "      <th>new_deaths</th>\n",
              "      <th>new_deaths_smoothed</th>\n",
              "      <th>total_cases_per_million</th>\n",
              "      <th>new_cases_per_million</th>\n",
              "      <th>new_cases_smoothed_per_million</th>\n",
              "      <th>total_deaths_per_million</th>\n",
              "      <th>new_deaths_per_million</th>\n",
              "      <th>new_deaths_smoothed_per_million</th>\n",
              "      <th>new_tests</th>\n",
              "      <th>total_tests</th>\n",
              "      <th>total_tests_per_thousand</th>\n",
              "      <th>new_tests_per_thousand</th>\n",
              "      <th>new_tests_smoothed</th>\n",
              "      <th>new_tests_smoothed_per_thousand</th>\n",
              "      <th>tests_per_case</th>\n",
              "      <th>positive_rate</th>\n",
              "      <th>tests_units</th>\n",
              "      <th>stringency_index</th>\n",
              "      <th>population</th>\n",
              "      <th>population_density</th>\n",
              "      <th>median_age</th>\n",
              "      <th>aged_65_older</th>\n",
              "      <th>aged_70_older</th>\n",
              "      <th>gdp_per_capita</th>\n",
              "      <th>extreme_poverty</th>\n",
              "      <th>cardiovasc_death_rate</th>\n",
              "      <th>diabetes_prevalence</th>\n",
              "      <th>female_smokers</th>\n",
              "      <th>male_smokers</th>\n",
              "      <th>handwashing_facilities</th>\n",
              "      <th>hospital_beds_per_thousand</th>\n",
              "      <th>life_expectancy</th>\n",
              "      <th>human_development_index</th>\n",
              "    </tr>\n",
              "  </thead>\n",
              "  <tbody>\n",
              "    <tr>\n",
              "      <th>0</th>\n",
              "      <td>AFG</td>\n",
              "      <td>Asia</td>\n",
              "      <td>Afghanistan</td>\n",
              "      <td>2019-12-31</td>\n",
              "      <td>0.0</td>\n",
              "      <td>0.0</td>\n",
              "      <td>NaN</td>\n",
              "      <td>0.0</td>\n",
              "      <td>0.0</td>\n",
              "      <td>NaN</td>\n",
              "      <td>0.0</td>\n",
              "      <td>0.0</td>\n",
              "      <td>NaN</td>\n",
              "      <td>0.0</td>\n",
              "      <td>0.0</td>\n",
              "      <td>NaN</td>\n",
              "      <td>NaN</td>\n",
              "      <td>NaN</td>\n",
              "      <td>NaN</td>\n",
              "      <td>NaN</td>\n",
              "      <td>NaN</td>\n",
              "      <td>NaN</td>\n",
              "      <td>NaN</td>\n",
              "      <td>NaN</td>\n",
              "      <td>NaN</td>\n",
              "      <td>NaN</td>\n",
              "      <td>38928341.0</td>\n",
              "      <td>54.422</td>\n",
              "      <td>18.6</td>\n",
              "      <td>2.581</td>\n",
              "      <td>1.337</td>\n",
              "      <td>1803.987</td>\n",
              "      <td>NaN</td>\n",
              "      <td>597.029</td>\n",
              "      <td>9.59</td>\n",
              "      <td>NaN</td>\n",
              "      <td>NaN</td>\n",
              "      <td>37.746</td>\n",
              "      <td>0.5</td>\n",
              "      <td>64.83</td>\n",
              "      <td>0.498</td>\n",
              "    </tr>\n",
              "    <tr>\n",
              "      <th>1</th>\n",
              "      <td>AFG</td>\n",
              "      <td>Asia</td>\n",
              "      <td>Afghanistan</td>\n",
              "      <td>2020-01-01</td>\n",
              "      <td>0.0</td>\n",
              "      <td>0.0</td>\n",
              "      <td>NaN</td>\n",
              "      <td>0.0</td>\n",
              "      <td>0.0</td>\n",
              "      <td>NaN</td>\n",
              "      <td>0.0</td>\n",
              "      <td>0.0</td>\n",
              "      <td>NaN</td>\n",
              "      <td>0.0</td>\n",
              "      <td>0.0</td>\n",
              "      <td>NaN</td>\n",
              "      <td>NaN</td>\n",
              "      <td>NaN</td>\n",
              "      <td>NaN</td>\n",
              "      <td>NaN</td>\n",
              "      <td>NaN</td>\n",
              "      <td>NaN</td>\n",
              "      <td>NaN</td>\n",
              "      <td>NaN</td>\n",
              "      <td>NaN</td>\n",
              "      <td>0.0</td>\n",
              "      <td>38928341.0</td>\n",
              "      <td>54.422</td>\n",
              "      <td>18.6</td>\n",
              "      <td>2.581</td>\n",
              "      <td>1.337</td>\n",
              "      <td>1803.987</td>\n",
              "      <td>NaN</td>\n",
              "      <td>597.029</td>\n",
              "      <td>9.59</td>\n",
              "      <td>NaN</td>\n",
              "      <td>NaN</td>\n",
              "      <td>37.746</td>\n",
              "      <td>0.5</td>\n",
              "      <td>64.83</td>\n",
              "      <td>0.498</td>\n",
              "    </tr>\n",
              "    <tr>\n",
              "      <th>2</th>\n",
              "      <td>AFG</td>\n",
              "      <td>Asia</td>\n",
              "      <td>Afghanistan</td>\n",
              "      <td>2020-01-02</td>\n",
              "      <td>0.0</td>\n",
              "      <td>0.0</td>\n",
              "      <td>NaN</td>\n",
              "      <td>0.0</td>\n",
              "      <td>0.0</td>\n",
              "      <td>NaN</td>\n",
              "      <td>0.0</td>\n",
              "      <td>0.0</td>\n",
              "      <td>NaN</td>\n",
              "      <td>0.0</td>\n",
              "      <td>0.0</td>\n",
              "      <td>NaN</td>\n",
              "      <td>NaN</td>\n",
              "      <td>NaN</td>\n",
              "      <td>NaN</td>\n",
              "      <td>NaN</td>\n",
              "      <td>NaN</td>\n",
              "      <td>NaN</td>\n",
              "      <td>NaN</td>\n",
              "      <td>NaN</td>\n",
              "      <td>NaN</td>\n",
              "      <td>0.0</td>\n",
              "      <td>38928341.0</td>\n",
              "      <td>54.422</td>\n",
              "      <td>18.6</td>\n",
              "      <td>2.581</td>\n",
              "      <td>1.337</td>\n",
              "      <td>1803.987</td>\n",
              "      <td>NaN</td>\n",
              "      <td>597.029</td>\n",
              "      <td>9.59</td>\n",
              "      <td>NaN</td>\n",
              "      <td>NaN</td>\n",
              "      <td>37.746</td>\n",
              "      <td>0.5</td>\n",
              "      <td>64.83</td>\n",
              "      <td>0.498</td>\n",
              "    </tr>\n",
              "    <tr>\n",
              "      <th>3</th>\n",
              "      <td>AFG</td>\n",
              "      <td>Asia</td>\n",
              "      <td>Afghanistan</td>\n",
              "      <td>2020-01-03</td>\n",
              "      <td>0.0</td>\n",
              "      <td>0.0</td>\n",
              "      <td>NaN</td>\n",
              "      <td>0.0</td>\n",
              "      <td>0.0</td>\n",
              "      <td>NaN</td>\n",
              "      <td>0.0</td>\n",
              "      <td>0.0</td>\n",
              "      <td>NaN</td>\n",
              "      <td>0.0</td>\n",
              "      <td>0.0</td>\n",
              "      <td>NaN</td>\n",
              "      <td>NaN</td>\n",
              "      <td>NaN</td>\n",
              "      <td>NaN</td>\n",
              "      <td>NaN</td>\n",
              "      <td>NaN</td>\n",
              "      <td>NaN</td>\n",
              "      <td>NaN</td>\n",
              "      <td>NaN</td>\n",
              "      <td>NaN</td>\n",
              "      <td>0.0</td>\n",
              "      <td>38928341.0</td>\n",
              "      <td>54.422</td>\n",
              "      <td>18.6</td>\n",
              "      <td>2.581</td>\n",
              "      <td>1.337</td>\n",
              "      <td>1803.987</td>\n",
              "      <td>NaN</td>\n",
              "      <td>597.029</td>\n",
              "      <td>9.59</td>\n",
              "      <td>NaN</td>\n",
              "      <td>NaN</td>\n",
              "      <td>37.746</td>\n",
              "      <td>0.5</td>\n",
              "      <td>64.83</td>\n",
              "      <td>0.498</td>\n",
              "    </tr>\n",
              "    <tr>\n",
              "      <th>4</th>\n",
              "      <td>AFG</td>\n",
              "      <td>Asia</td>\n",
              "      <td>Afghanistan</td>\n",
              "      <td>2020-01-04</td>\n",
              "      <td>0.0</td>\n",
              "      <td>0.0</td>\n",
              "      <td>NaN</td>\n",
              "      <td>0.0</td>\n",
              "      <td>0.0</td>\n",
              "      <td>NaN</td>\n",
              "      <td>0.0</td>\n",
              "      <td>0.0</td>\n",
              "      <td>NaN</td>\n",
              "      <td>0.0</td>\n",
              "      <td>0.0</td>\n",
              "      <td>NaN</td>\n",
              "      <td>NaN</td>\n",
              "      <td>NaN</td>\n",
              "      <td>NaN</td>\n",
              "      <td>NaN</td>\n",
              "      <td>NaN</td>\n",
              "      <td>NaN</td>\n",
              "      <td>NaN</td>\n",
              "      <td>NaN</td>\n",
              "      <td>NaN</td>\n",
              "      <td>0.0</td>\n",
              "      <td>38928341.0</td>\n",
              "      <td>54.422</td>\n",
              "      <td>18.6</td>\n",
              "      <td>2.581</td>\n",
              "      <td>1.337</td>\n",
              "      <td>1803.987</td>\n",
              "      <td>NaN</td>\n",
              "      <td>597.029</td>\n",
              "      <td>9.59</td>\n",
              "      <td>NaN</td>\n",
              "      <td>NaN</td>\n",
              "      <td>37.746</td>\n",
              "      <td>0.5</td>\n",
              "      <td>64.83</td>\n",
              "      <td>0.498</td>\n",
              "    </tr>\n",
              "  </tbody>\n",
              "</table>\n",
              "</div>"
            ],
            "text/plain": [
              "  iso_code continent  ... life_expectancy human_development_index\n",
              "0      AFG      Asia  ...           64.83                   0.498\n",
              "1      AFG      Asia  ...           64.83                   0.498\n",
              "2      AFG      Asia  ...           64.83                   0.498\n",
              "3      AFG      Asia  ...           64.83                   0.498\n",
              "4      AFG      Asia  ...           64.83                   0.498\n",
              "\n",
              "[5 rows x 41 columns]"
            ]
          },
          "metadata": {
            "tags": []
          },
          "execution_count": 45
        }
      ]
    },
    {
      "cell_type": "code",
      "metadata": {
        "id": "Nz2-8cW1N89n"
      },
      "source": [
        "df_pop_africa = df_pop[df_pop['continent']=='Africa']"
      ],
      "execution_count": 46,
      "outputs": []
    },
    {
      "cell_type": "code",
      "metadata": {
        "id": "20DbwNPzOb8A"
      },
      "source": [
        "df_pop_africa = df_pop_africa.rename(columns={'location':'country'})"
      ],
      "execution_count": 47,
      "outputs": []
    },
    {
      "cell_type": "code",
      "metadata": {
        "id": "Fh7hgpMDOnaW"
      },
      "source": [
        "df_pop_africa = df_pop_africa[['country', 'population']]"
      ],
      "execution_count": 48,
      "outputs": []
    },
    {
      "cell_type": "code",
      "metadata": {
        "id": "N0JlEBhhPTzI"
      },
      "source": [
        "df_pop_africa = df_pop_africa.sort_values(by=['country'], ascending=True)"
      ],
      "execution_count": 49,
      "outputs": []
    },
    {
      "cell_type": "code",
      "metadata": {
        "id": "d3ULglruR84M"
      },
      "source": [
        "df_test = df.merge(df_pop_africa, on='country', how='left').drop_duplicates()"
      ],
      "execution_count": 50,
      "outputs": []
    },
    {
      "cell_type": "code",
      "metadata": {
        "id": "cUOUaoGQVGDM"
      },
      "source": [
        "df_test.to_csv('african_covid_report_last.csv', index_label=False)"
      ],
      "execution_count": 51,
      "outputs": []
    },
    {
      "cell_type": "code",
      "metadata": {
        "id": "gmQneu2c7EVz"
      },
      "source": [
        "#ig= px.scatter(df_test, x = 'confirmed', y = 'deaths', animation_frame='date', animation_group='country',\n",
        "                #size='confirmed', hover_name='country', log_x=True, log_y=True, size_max=45, \n",
        "                #range_x=[100, 1200000], range_y=[25, 40000], color = 'country', hover_data=['recovered', 'date'],\n",
        "                #text='country', title='Confirmed cases vs deaths cases in Africa')\n",
        "\n",
        "#fig.layout.updatemenus[0].buttons[0].args[1]['frame']['duration']=50\n",
        "\n",
        "\n",
        "#fig.show()"
      ],
      "execution_count": 52,
      "outputs": []
    },
    {
      "cell_type": "code",
      "metadata": {
        "id": "qvZlBqSh8o-d"
      },
      "source": [
        "#fig = px.line(df, x='country', y='confirmed', color='country', \n",
        "              #animation_frame='date', animation_group='country')\n",
        "#fig.show()"
      ],
      "execution_count": 53,
      "outputs": []
    },
    {
      "cell_type": "code",
      "metadata": {
        "id": "j3tohe8d5nZQ"
      },
      "source": [
        ""
      ],
      "execution_count": 53,
      "outputs": []
    }
  ]
}